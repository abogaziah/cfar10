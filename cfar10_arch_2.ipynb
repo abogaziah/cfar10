{
  "nbformat": 4,
  "nbformat_minor": 0,
  "metadata": {
    "colab": {
      "name": "cfar10-arch#2",
      "version": "0.3.2",
      "provenance": [],
      "collapsed_sections": [],
      "include_colab_link": true
    },
    "kernelspec": {
      "name": "python3",
      "display_name": "Python 3"
    },
    "accelerator": "GPU"
  },
  "cells": [
    {
      "cell_type": "markdown",
      "metadata": {
        "id": "view-in-github",
        "colab_type": "text"
      },
      "source": [
        "<a href=\"https://colab.research.google.com/github/abogaziah/cfar10/blob/master/cfar10_arch_2.ipynb\" target=\"_parent\"><img src=\"https://colab.research.google.com/assets/colab-badge.svg\" alt=\"Open In Colab\"/></a>"
      ]
    },
    {
      "cell_type": "code",
      "metadata": {
        "id": "Hff80NHJgy0f",
        "colab_type": "code",
        "outputId": "ac382c79-cf18-461e-a270-e3caf8bba6d9",
        "colab": {
          "base_uri": "https://localhost:8080/",
          "height": 121
        }
      },
      "source": [
        "from google.colab import drive\n",
        "drive.mount('/content/drive')"
      ],
      "execution_count": 1,
      "outputs": [
        {
          "output_type": "stream",
          "text": [
            "Go to this URL in a browser: https://accounts.google.com/o/oauth2/auth?client_id=947318989803-6bn6qk8qdgf4n4g3pfee6491hc0brc4i.apps.googleusercontent.com&redirect_uri=urn%3Aietf%3Awg%3Aoauth%3A2.0%3Aoob&scope=email%20https%3A%2F%2Fwww.googleapis.com%2Fauth%2Fdocs.test%20https%3A%2F%2Fwww.googleapis.com%2Fauth%2Fdrive%20https%3A%2F%2Fwww.googleapis.com%2Fauth%2Fdrive.photos.readonly%20https%3A%2F%2Fwww.googleapis.com%2Fauth%2Fpeopleapi.readonly&response_type=code\n",
            "\n",
            "Enter your authorization code:\n",
            "··········\n",
            "Mounted at /content/drive\n"
          ],
          "name": "stdout"
        }
      ]
    },
    {
      "cell_type": "code",
      "metadata": {
        "id": "ef0Jagfr2rdD",
        "colab_type": "code",
        "colab": {}
      },
      "source": [
        "import sys\n",
        "sys.path.append('/content/drive/My Drive/code')\n"
      ],
      "execution_count": 0,
      "outputs": []
    },
    {
      "cell_type": "code",
      "metadata": {
        "id": "W1ETat1l2w7V",
        "colab_type": "code",
        "outputId": "ff6d30ae-5326-4e43-88b3-a0a6baf3228b",
        "colab": {
          "base_uri": "https://localhost:8080/",
          "height": 34
        }
      },
      "source": [
        "from clr_callback import *"
      ],
      "execution_count": 3,
      "outputs": [
        {
          "output_type": "stream",
          "text": [
            "Using TensorFlow backend.\n"
          ],
          "name": "stderr"
        }
      ]
    },
    {
      "cell_type": "code",
      "metadata": {
        "id": "hzZEuTV9QifP",
        "colab_type": "code",
        "colab": {}
      },
      "source": [
        "from lr_finder import *"
      ],
      "execution_count": 0,
      "outputs": []
    },
    {
      "cell_type": "code",
      "metadata": {
        "id": "OyIMd71cgaHb",
        "colab_type": "code",
        "outputId": "42722d9f-8a75-40e1-b85c-7158281a5e16",
        "colab": {
          "base_uri": "https://localhost:8080/",
          "height": 1000
        }
      },
      "source": [
        "import keras\n",
        "from keras.models import Sequential\n",
        "from keras.layers import Conv2D, MaxPooling2D, Flatten, Dense, Dropout, BatchNormalization, Activation\n",
        "import numpy as np\n",
        "from keras.datasets import cifar10\n",
        "from keras.preprocessing.image import ImageDataGenerator\n",
        "import matplotlib.pyplot as plt\n",
        "from keras import optimizers\n",
        "from keras import regularizers\n",
        "\n",
        "(x_train, y_train), (x_test, y_test) = cifar10.load_data()\n",
        "x_train = x_train.astype('float32')/255\n",
        "x_test = x_test.astype('float32')/255\n",
        "\n",
        "num_classes = len(np.unique(y_train))\n",
        "y_train = keras.utils.to_categorical(y_train, num_classes)\n",
        "y_test = keras.utils.to_categorical(y_test, num_classes)\n",
        "\n",
        "(x_train, x_valid) = x_train[5000:], x_train[:5000]\n",
        "(y_train, y_valid) = y_train[5000:], y_train[:5000]\n",
        "\n",
        "weight_decay=0.0005\n",
        "\n",
        "model = Sequential()\n",
        "model.add(Conv2D(32, (3,3), padding='same', kernel_regularizer=regularizers.l2(weight_decay), input_shape=(32, 32, 3)))\n",
        "model.add(Activation('elu'))\n",
        "model.add(BatchNormalization())\n",
        "model.add(Conv2D(32, (3,3), padding='same', kernel_regularizer=regularizers.l2(weight_decay)))\n",
        "model.add(Activation('elu'))\n",
        "model.add(BatchNormalization())\n",
        "model.add(MaxPooling2D(pool_size=(2,2)))\n",
        "model.add(Dropout(0.2))\n",
        "\n",
        "model.add(Conv2D(64, (3,3), padding='same', kernel_regularizer=regularizers.l2(weight_decay)))\n",
        "model.add(Activation('elu'))\n",
        "model.add(BatchNormalization())\n",
        "model.add(Conv2D(64, (3,3), padding='same', kernel_regularizer=regularizers.l2(weight_decay)))\n",
        "model.add(Activation('elu'))\n",
        "model.add(BatchNormalization())\n",
        "model.add(MaxPooling2D(pool_size=(2,2)))\n",
        "model.add(Dropout(0.3))\n",
        "\n",
        "model.add(Conv2D(128, (3,3), padding='same', kernel_regularizer=regularizers.l2(weight_decay)))\n",
        "model.add(Activation('elu'))\n",
        "model.add(BatchNormalization())\n",
        "model.add(Conv2D(128, (3,3), padding='same', kernel_regularizer=regularizers.l2(weight_decay)))\n",
        "model.add(Activation('elu'))\n",
        "model.add(BatchNormalization())\n",
        "model.add(MaxPooling2D(pool_size=(2,2)))\n",
        "model.add(Dropout(0.4))\n",
        "\n",
        "model.add(Flatten())\n",
        "model.add(Dense(num_classes, activation='softmax'))\n",
        "\n",
        "model.summary()\n",
        "\n",
        "datagen = ImageDataGenerator(\n",
        "    rotation_range=15,\n",
        "    width_shift_range=0.1,\n",
        "    height_shift_range=0.1,\n",
        "    horizontal_flip=True,\n",
        "    )\n",
        "datagen.fit(x_train)\n",
        "\n",
        "clr = CyclicLR(base_lr=3e-5, max_lr=3e-4,\n",
        "                                step_size=2812., mode='triangular2')\n",
        "adam=keras.optimizers.rmsprop(lr=3e-4)\n",
        "model.compile(loss='categorical_crossentropy', optimizer=adam , metrics=['accuracy'])\n",
        "history= model.fit_generator(datagen.flow(x_train, y_train, batch_size=64),epochs=50,\\\n",
        "                             steps_per_epoch=x_train.shape[0]//64,\\\n",
        "                             verbose=1,validation_data=(x_valid,y_valid),callbacks=[clr])\n",
        "\n"
      ],
      "execution_count": 30,
      "outputs": [
        {
          "output_type": "stream",
          "text": [
            "_________________________________________________________________\n",
            "Layer (type)                 Output Shape              Param #   \n",
            "=================================================================\n",
            "conv2d_19 (Conv2D)           (None, 32, 32, 32)        896       \n",
            "_________________________________________________________________\n",
            "activation_19 (Activation)   (None, 32, 32, 32)        0         \n",
            "_________________________________________________________________\n",
            "batch_normalization_19 (Batc (None, 32, 32, 32)        128       \n",
            "_________________________________________________________________\n",
            "conv2d_20 (Conv2D)           (None, 32, 32, 32)        9248      \n",
            "_________________________________________________________________\n",
            "activation_20 (Activation)   (None, 32, 32, 32)        0         \n",
            "_________________________________________________________________\n",
            "batch_normalization_20 (Batc (None, 32, 32, 32)        128       \n",
            "_________________________________________________________________\n",
            "max_pooling2d_10 (MaxPooling (None, 16, 16, 32)        0         \n",
            "_________________________________________________________________\n",
            "dropout_10 (Dropout)         (None, 16, 16, 32)        0         \n",
            "_________________________________________________________________\n",
            "conv2d_21 (Conv2D)           (None, 16, 16, 64)        18496     \n",
            "_________________________________________________________________\n",
            "activation_21 (Activation)   (None, 16, 16, 64)        0         \n",
            "_________________________________________________________________\n",
            "batch_normalization_21 (Batc (None, 16, 16, 64)        256       \n",
            "_________________________________________________________________\n",
            "conv2d_22 (Conv2D)           (None, 16, 16, 64)        36928     \n",
            "_________________________________________________________________\n",
            "activation_22 (Activation)   (None, 16, 16, 64)        0         \n",
            "_________________________________________________________________\n",
            "batch_normalization_22 (Batc (None, 16, 16, 64)        256       \n",
            "_________________________________________________________________\n",
            "max_pooling2d_11 (MaxPooling (None, 8, 8, 64)          0         \n",
            "_________________________________________________________________\n",
            "dropout_11 (Dropout)         (None, 8, 8, 64)          0         \n",
            "_________________________________________________________________\n",
            "conv2d_23 (Conv2D)           (None, 8, 8, 128)         73856     \n",
            "_________________________________________________________________\n",
            "activation_23 (Activation)   (None, 8, 8, 128)         0         \n",
            "_________________________________________________________________\n",
            "batch_normalization_23 (Batc (None, 8, 8, 128)         512       \n",
            "_________________________________________________________________\n",
            "conv2d_24 (Conv2D)           (None, 8, 8, 128)         147584    \n",
            "_________________________________________________________________\n",
            "activation_24 (Activation)   (None, 8, 8, 128)         0         \n",
            "_________________________________________________________________\n",
            "batch_normalization_24 (Batc (None, 8, 8, 128)         512       \n",
            "_________________________________________________________________\n",
            "max_pooling2d_12 (MaxPooling (None, 4, 4, 128)         0         \n",
            "_________________________________________________________________\n",
            "dropout_12 (Dropout)         (None, 4, 4, 128)         0         \n",
            "_________________________________________________________________\n",
            "flatten_4 (Flatten)          (None, 2048)              0         \n",
            "_________________________________________________________________\n",
            "dense_4 (Dense)              (None, 10)                20490     \n",
            "=================================================================\n",
            "Total params: 309,290\n",
            "Trainable params: 308,394\n",
            "Non-trainable params: 896\n",
            "_________________________________________________________________\n",
            "Epoch 1/50\n",
            "703/703 [==============================] - 44s 63ms/step - loss: 2.8001 - acc: 0.2665 - val_loss: 1.8482 - val_acc: 0.4288\n",
            "Epoch 2/50\n",
            "703/703 [==============================] - 42s 60ms/step - loss: 2.0841 - acc: 0.3936 - val_loss: 1.8023 - val_acc: 0.4714\n",
            "Epoch 3/50\n",
            "703/703 [==============================] - 42s 60ms/step - loss: 1.7791 - acc: 0.4669 - val_loss: 1.5339 - val_acc: 0.5532\n",
            "Epoch 4/50\n",
            "703/703 [==============================] - 43s 61ms/step - loss: 1.5601 - acc: 0.5290 - val_loss: 1.3021 - val_acc: 0.6270\n",
            "Epoch 5/50\n",
            "703/703 [==============================] - 42s 60ms/step - loss: 1.3734 - acc: 0.5851 - val_loss: 1.2283 - val_acc: 0.6622\n",
            "Epoch 6/50\n",
            "703/703 [==============================] - 42s 59ms/step - loss: 1.2375 - acc: 0.6302 - val_loss: 1.2062 - val_acc: 0.6622\n",
            "Epoch 7/50\n",
            "703/703 [==============================] - 42s 60ms/step - loss: 1.1550 - acc: 0.6584 - val_loss: 1.0891 - val_acc: 0.7002\n",
            "Epoch 8/50\n",
            "703/703 [==============================] - 43s 62ms/step - loss: 1.0967 - acc: 0.6745 - val_loss: 1.0524 - val_acc: 0.7152\n",
            "Epoch 9/50\n",
            "703/703 [==============================] - 44s 63ms/step - loss: 1.0673 - acc: 0.6872 - val_loss: 1.0366 - val_acc: 0.7156\n",
            "Epoch 10/50\n",
            "703/703 [==============================] - 43s 61ms/step - loss: 1.0654 - acc: 0.6857 - val_loss: 1.0263 - val_acc: 0.7158\n",
            "Epoch 11/50\n",
            "703/703 [==============================] - 43s 61ms/step - loss: 1.0491 - acc: 0.6907 - val_loss: 0.9802 - val_acc: 0.7276\n",
            "Epoch 12/50\n",
            "703/703 [==============================] - 45s 63ms/step - loss: 1.0426 - acc: 0.6917 - val_loss: 1.0194 - val_acc: 0.7186\n",
            "Epoch 13/50\n",
            "703/703 [==============================] - 44s 62ms/step - loss: 1.0138 - acc: 0.6990 - val_loss: 0.8886 - val_acc: 0.7518\n",
            "Epoch 14/50\n",
            "703/703 [==============================] - 42s 60ms/step - loss: 0.9761 - acc: 0.7136 - val_loss: 0.9283 - val_acc: 0.7398\n",
            "Epoch 15/50\n",
            "703/703 [==============================] - 41s 59ms/step - loss: 0.9426 - acc: 0.7236 - val_loss: 0.9519 - val_acc: 0.7408\n",
            "Epoch 16/50\n",
            "703/703 [==============================] - 43s 61ms/step - loss: 0.9204 - acc: 0.7318 - val_loss: 0.8733 - val_acc: 0.7596\n",
            "Epoch 17/50\n",
            "703/703 [==============================] - 43s 61ms/step - loss: 0.9078 - acc: 0.7359 - val_loss: 0.8801 - val_acc: 0.7600\n",
            "Epoch 18/50\n",
            "703/703 [==============================] - 43s 61ms/step - loss: 0.9043 - acc: 0.7367 - val_loss: 0.8552 - val_acc: 0.7680\n",
            "Epoch 19/50\n",
            "703/703 [==============================] - 42s 60ms/step - loss: 0.9007 - acc: 0.7366 - val_loss: 0.8825 - val_acc: 0.7580\n",
            "Epoch 20/50\n",
            "703/703 [==============================] - 42s 60ms/step - loss: 0.8988 - acc: 0.7370 - val_loss: 0.8658 - val_acc: 0.7622\n",
            "Epoch 21/50\n",
            "703/703 [==============================] - 42s 60ms/step - loss: 0.8885 - acc: 0.7394 - val_loss: 0.9321 - val_acc: 0.7512\n",
            "Epoch 22/50\n",
            "703/703 [==============================] - 42s 60ms/step - loss: 0.8704 - acc: 0.7465 - val_loss: 0.8027 - val_acc: 0.7806\n",
            "Epoch 23/50\n",
            "703/703 [==============================] - 42s 59ms/step - loss: 0.8560 - acc: 0.7515 - val_loss: 0.8208 - val_acc: 0.7776\n",
            "Epoch 24/50\n",
            "703/703 [==============================] - 43s 61ms/step - loss: 0.8356 - acc: 0.7579 - val_loss: 0.8120 - val_acc: 0.7776\n",
            "Epoch 25/50\n",
            "703/703 [==============================] - 42s 60ms/step - loss: 0.8309 - acc: 0.7608 - val_loss: 0.7882 - val_acc: 0.7832\n",
            "Epoch 26/50\n",
            "703/703 [==============================] - 42s 59ms/step - loss: 0.8298 - acc: 0.7600 - val_loss: 0.8332 - val_acc: 0.7732\n",
            "Epoch 27/50\n",
            "703/703 [==============================] - 42s 59ms/step - loss: 0.8267 - acc: 0.7578 - val_loss: 0.8434 - val_acc: 0.7722\n",
            "Epoch 28/50\n",
            "703/703 [==============================] - 41s 58ms/step - loss: 0.8217 - acc: 0.7634 - val_loss: 0.7815 - val_acc: 0.7842\n",
            "Epoch 29/50\n",
            "703/703 [==============================] - 43s 61ms/step - loss: 0.8171 - acc: 0.7641 - val_loss: 0.7571 - val_acc: 0.7932\n",
            "Epoch 30/50\n",
            "703/703 [==============================] - 43s 61ms/step - loss: 0.8142 - acc: 0.7666 - val_loss: 0.7644 - val_acc: 0.7912\n",
            "Epoch 31/50\n",
            "703/703 [==============================] - 43s 62ms/step - loss: 0.7957 - acc: 0.7712 - val_loss: 0.7750 - val_acc: 0.7918\n",
            "Epoch 32/50\n",
            "703/703 [==============================] - 43s 61ms/step - loss: 0.7889 - acc: 0.7713 - val_loss: 0.7484 - val_acc: 0.7946\n",
            "Epoch 33/50\n",
            "703/703 [==============================] - 43s 61ms/step - loss: 0.7868 - acc: 0.7730 - val_loss: 0.7352 - val_acc: 0.8000\n",
            "Epoch 34/50\n",
            "703/703 [==============================] - 42s 60ms/step - loss: 0.7849 - acc: 0.7763 - val_loss: 0.7321 - val_acc: 0.7986\n",
            "Epoch 35/50\n",
            "703/703 [==============================] - 42s 60ms/step - loss: 0.7834 - acc: 0.7746 - val_loss: 0.7427 - val_acc: 0.7978\n",
            "Epoch 36/50\n",
            "703/703 [==============================] - 42s 60ms/step - loss: 0.7849 - acc: 0.7748 - val_loss: 0.7362 - val_acc: 0.8002\n",
            "Epoch 37/50\n",
            "703/703 [==============================] - 41s 59ms/step - loss: 0.7779 - acc: 0.7755 - val_loss: 0.7627 - val_acc: 0.7918\n",
            "Epoch 38/50\n",
            "703/703 [==============================] - 42s 59ms/step - loss: 0.7645 - acc: 0.7787 - val_loss: 0.7236 - val_acc: 0.8024\n",
            "Epoch 39/50\n",
            "703/703 [==============================] - 42s 59ms/step - loss: 0.7630 - acc: 0.7794 - val_loss: 0.7359 - val_acc: 0.7996\n",
            "Epoch 40/50\n",
            "703/703 [==============================] - 44s 62ms/step - loss: 0.7538 - acc: 0.7830 - val_loss: 0.6999 - val_acc: 0.8094\n",
            "Epoch 41/50\n",
            "703/703 [==============================] - 41s 58ms/step - loss: 0.7503 - acc: 0.7816 - val_loss: 0.7125 - val_acc: 0.8072\n",
            "Epoch 42/50\n",
            "703/703 [==============================] - 42s 60ms/step - loss: 0.7500 - acc: 0.7838 - val_loss: 0.7084 - val_acc: 0.8042\n",
            "Epoch 43/50\n",
            "703/703 [==============================] - 43s 61ms/step - loss: 0.7421 - acc: 0.7866 - val_loss: 0.7536 - val_acc: 0.8004\n",
            "Epoch 44/50\n",
            "703/703 [==============================] - 43s 61ms/step - loss: 0.7397 - acc: 0.7873 - val_loss: 0.6967 - val_acc: 0.8106\n",
            "Epoch 45/50\n",
            "703/703 [==============================] - 44s 63ms/step - loss: 0.7487 - acc: 0.7841 - val_loss: 0.7006 - val_acc: 0.8094\n",
            "Epoch 46/50\n",
            "703/703 [==============================] - 44s 62ms/step - loss: 0.7353 - acc: 0.7907 - val_loss: 0.6943 - val_acc: 0.8090\n",
            "Epoch 47/50\n",
            "703/703 [==============================] - 42s 60ms/step - loss: 0.7368 - acc: 0.7883 - val_loss: 0.6939 - val_acc: 0.8134\n",
            "Epoch 48/50\n",
            "703/703 [==============================] - 42s 60ms/step - loss: 0.7320 - acc: 0.7877 - val_loss: 0.7093 - val_acc: 0.8120\n",
            "Epoch 49/50\n",
            "703/703 [==============================] - 42s 60ms/step - loss: 0.7274 - acc: 0.7924 - val_loss: 0.6873 - val_acc: 0.8136\n",
            "Epoch 50/50\n",
            "703/703 [==============================] - 42s 60ms/step - loss: 0.7223 - acc: 0.7915 - val_loss: 0.6980 - val_acc: 0.8116\n"
          ],
          "name": "stdout"
        }
      ]
    },
    {
      "cell_type": "code",
      "metadata": {
        "id": "-obyX5oUR_U5",
        "colab_type": "code",
        "colab": {}
      },
      "source": [
        "lr_finder.plot_loss()"
      ],
      "execution_count": 0,
      "outputs": []
    },
    {
      "cell_type": "code",
      "metadata": {
        "id": "0sutNguIfSFS",
        "colab_type": "code",
        "outputId": "c150c015-6898-478b-9969-423d0f637bb7",
        "colab": {
          "base_uri": "https://localhost:8080/",
          "height": 296
        }
      },
      "source": [
        "plt.plot(history.history['loss'])\n",
        "plt.plot(history.history['val_loss'])\n",
        "plt.title('Model loss')\n",
        "plt.ylabel('Loss')\n",
        "plt.xlabel('val_loss')\n",
        "plt.legend(['train', 'test'], loc='upper left')\n",
        "plt.show()\n"
      ],
      "execution_count": 40,
      "outputs": [
        {
          "output_type": "display_data",
          "data": {
            "image/png": "[encoded data removed]",
            "text/plain": [
              "<Figure size 432x288 with 1 Axes>"
            ]
          },
          "metadata": {
            "tags": []
          }
        }
      ]
    },
    {
      "cell_type": "code",
      "metadata": {
        "id": "mq1X0Ndi0cUt",
        "colab_type": "code",
        "colab": {}
      },
      "source": [
        "from keras.models import load_model"
      ],
      "execution_count": 0,
      "outputs": []
    },
    {
      "cell_type": "code",
      "metadata": {
        "id": "T3zA3_Sk18hG",
        "colab_type": "code",
        "colab": {}
      },
      "source": [
        "model.save('/content/drive/My Drive/code/my_model.h5')"
      ],
      "execution_count": 0,
      "outputs": []
    },
    {
      "cell_type": "code",
      "metadata": {
        "id": "UTfMWmK-3jjc",
        "colab_type": "code",
        "colab": {}
      },
      "source": [
        "del model"
      ],
      "execution_count": 0,
      "outputs": []
    },
    {
      "cell_type": "code",
      "metadata": {
        "id": "vBqQMo6U2JSG",
        "colab_type": "code",
        "colab": {}
      },
      "source": [
        "model = keras.models.load_model('/content/drive/My Drive/code/my_model.h5')"
      ],
      "execution_count": 0,
      "outputs": []
    },
    {
      "cell_type": "code",
      "metadata": {
        "id": "oD4EMPx52MVn",
        "colab_type": "code",
        "colab": {}
      },
      "source": [
        "model.summary()"
      ],
      "execution_count": 0,
      "outputs": []
    },
    {
      "cell_type": "code",
      "metadata": {
        "id": "PkSvaaNS4oBe",
        "colab_type": "code",
        "colab": {
          "base_uri": "https://localhost:8080/",
          "height": 1000
        },
        "outputId": "6c447de8-8a7b-46bc-d673-ef51ae1e94d4"
      },
      "source": [
        "history= model.fit_generator(datagen.flow(x_train, y_train, batch_size=64),epochs=50,\\\n",
        "                             steps_per_epoch=x_train.shape[0]//64,\\\n",
        "                             verbose=1,validation_data=(x_valid,y_valid),callbacks=[clr])\n"
      ],
      "execution_count": 41,
      "outputs": [
        {
          "output_type": "stream",
          "text": [
            "Epoch 1/50\n",
            "  5/703 [..............................] - ETA: 4:13 - loss: 0.6398 - acc: 0.8250"
          ],
          "name": "stdout"
        },
        {
          "output_type": "stream",
          "text": [
            "/usr/local/lib/python3.6/dist-packages/keras/callbacks.py:122: UserWarning: Method on_batch_end() is slow compared to the batch update (0.160830). Check your callbacks.\n",
            "  % delta_t_median)\n"
          ],
          "name": "stderr"
        },
        {
          "output_type": "stream",
          "text": [
            "703/703 [==============================] - 46s 66ms/step - loss: 0.6131 - acc: 0.8236 - val_loss: 0.6019 - val_acc: 0.8390\n",
            "Epoch 2/50\n",
            "703/703 [==============================] - 45s 64ms/step - loss: 0.6185 - acc: 0.8247 - val_loss: 0.6209 - val_acc: 0.8354\n",
            "Epoch 3/50\n",
            "703/703 [==============================] - 45s 64ms/step - loss: 0.6152 - acc: 0.8221 - val_loss: 0.6290 - val_acc: 0.8318\n",
            "Epoch 4/50\n",
            "703/703 [==============================] - 45s 64ms/step - loss: 0.6115 - acc: 0.8259 - val_loss: 0.5944 - val_acc: 0.8410\n",
            "Epoch 5/50\n",
            "703/703 [==============================] - 45s 64ms/step - loss: 0.6150 - acc: 0.8225 - val_loss: 0.5893 - val_acc: 0.8436\n",
            "Epoch 6/50\n",
            "703/703 [==============================] - 44s 62ms/step - loss: 0.6086 - acc: 0.8253 - val_loss: 0.5894 - val_acc: 0.8426\n",
            "Epoch 7/50\n",
            "703/703 [==============================] - 45s 63ms/step - loss: 0.6044 - acc: 0.8286 - val_loss: 0.5711 - val_acc: 0.8476\n",
            "Epoch 8/50\n",
            "703/703 [==============================] - 45s 64ms/step - loss: 0.6081 - acc: 0.8265 - val_loss: 0.6076 - val_acc: 0.8384\n",
            "Epoch 9/50\n",
            "703/703 [==============================] - 45s 64ms/step - loss: 0.6032 - acc: 0.8289 - val_loss: 0.5752 - val_acc: 0.8440\n",
            "Epoch 10/50\n",
            "703/703 [==============================] - 45s 64ms/step - loss: 0.6016 - acc: 0.8280 - val_loss: 0.5760 - val_acc: 0.8428\n",
            "Epoch 11/50\n",
            "703/703 [==============================] - 44s 63ms/step - loss: 0.6010 - acc: 0.8278 - val_loss: 0.5647 - val_acc: 0.8538\n",
            "Epoch 12/50\n",
            "703/703 [==============================] - 42s 60ms/step - loss: 0.5973 - acc: 0.8307 - val_loss: 0.5850 - val_acc: 0.8454\n",
            "Epoch 13/50\n",
            "703/703 [==============================] - 44s 63ms/step - loss: 0.5963 - acc: 0.8295 - val_loss: 0.5574 - val_acc: 0.8558\n",
            "Epoch 14/50\n",
            "703/703 [==============================] - 44s 62ms/step - loss: 0.5939 - acc: 0.8303 - val_loss: 0.5728 - val_acc: 0.8494\n",
            "Epoch 15/50\n",
            "703/703 [==============================] - 44s 63ms/step - loss: 0.5970 - acc: 0.8288 - val_loss: 0.5635 - val_acc: 0.8514\n",
            "Epoch 16/50\n",
            "703/703 [==============================] - 44s 63ms/step - loss: 0.5979 - acc: 0.8303 - val_loss: 0.5599 - val_acc: 0.8530\n",
            "Epoch 17/50\n",
            "703/703 [==============================] - 44s 62ms/step - loss: 0.5907 - acc: 0.8314 - val_loss: 0.5840 - val_acc: 0.8426\n",
            "Epoch 18/50\n",
            "703/703 [==============================] - 44s 63ms/step - loss: 0.5950 - acc: 0.8294 - val_loss: 0.5749 - val_acc: 0.8490\n",
            "Epoch 19/50\n",
            "703/703 [==============================] - 44s 63ms/step - loss: 0.5870 - acc: 0.8319 - val_loss: 0.5502 - val_acc: 0.8528\n",
            "Epoch 20/50\n",
            "703/703 [==============================] - 44s 62ms/step - loss: 0.5913 - acc: 0.8296 - val_loss: 0.5550 - val_acc: 0.8522\n",
            "Epoch 21/50\n",
            "703/703 [==============================] - 44s 63ms/step - loss: 0.5901 - acc: 0.8311 - val_loss: 0.5816 - val_acc: 0.8448\n",
            "Epoch 22/50\n",
            "703/703 [==============================] - 43s 62ms/step - loss: 0.5881 - acc: 0.8318 - val_loss: 0.5498 - val_acc: 0.8526\n",
            "Epoch 23/50\n",
            "703/703 [==============================] - 44s 62ms/step - loss: 0.5835 - acc: 0.8351 - val_loss: 0.6017 - val_acc: 0.8384\n",
            "Epoch 24/50\n",
            "703/703 [==============================] - 44s 62ms/step - loss: 0.5811 - acc: 0.8331 - val_loss: 0.5626 - val_acc: 0.8512\n",
            "Epoch 25/50\n",
            "703/703 [==============================] - 43s 62ms/step - loss: 0.5802 - acc: 0.8329 - val_loss: 0.5858 - val_acc: 0.8440\n",
            "Epoch 26/50\n",
            "703/703 [==============================] - 44s 63ms/step - loss: 0.5778 - acc: 0.8355 - val_loss: 0.5510 - val_acc: 0.8544\n",
            "Epoch 27/50\n",
            "703/703 [==============================] - 44s 63ms/step - loss: 0.5824 - acc: 0.8312 - val_loss: 0.5602 - val_acc: 0.8528\n",
            "Epoch 28/50\n",
            "703/703 [==============================] - 45s 63ms/step - loss: 0.5741 - acc: 0.8354 - val_loss: 0.5547 - val_acc: 0.8542\n",
            "Epoch 29/50\n",
            "703/703 [==============================] - 44s 63ms/step - loss: 0.5803 - acc: 0.8332 - val_loss: 0.5607 - val_acc: 0.8526\n",
            "Epoch 30/50\n",
            "703/703 [==============================] - 44s 63ms/step - loss: 0.5688 - acc: 0.8373 - val_loss: 0.5898 - val_acc: 0.8460\n",
            "Epoch 31/50\n",
            "703/703 [==============================] - 44s 62ms/step - loss: 0.5740 - acc: 0.8378 - val_loss: 0.5704 - val_acc: 0.8470\n",
            "Epoch 32/50\n",
            "703/703 [==============================] - 44s 62ms/step - loss: 0.5742 - acc: 0.8382 - val_loss: 0.5291 - val_acc: 0.8564\n",
            "Epoch 33/50\n",
            "703/703 [==============================] - 43s 61ms/step - loss: 0.5713 - acc: 0.8366 - val_loss: 0.5623 - val_acc: 0.8442\n",
            "Epoch 34/50\n",
            "703/703 [==============================] - 44s 63ms/step - loss: 0.5709 - acc: 0.8394 - val_loss: 0.5547 - val_acc: 0.8500\n",
            "Epoch 35/50\n",
            "703/703 [==============================] - 44s 63ms/step - loss: 0.5690 - acc: 0.8374 - val_loss: 0.5509 - val_acc: 0.8516\n",
            "Epoch 36/50\n",
            "703/703 [==============================] - 45s 63ms/step - loss: 0.5723 - acc: 0.8356 - val_loss: 0.5486 - val_acc: 0.8518\n",
            "Epoch 37/50\n",
            "703/703 [==============================] - 44s 63ms/step - loss: 0.5672 - acc: 0.8384 - val_loss: 0.5463 - val_acc: 0.8524\n",
            "Epoch 38/50\n",
            "471/703 [===================>..........] - ETA: 13s - loss: 0.5726 - acc: 0.8371"
          ],
          "name": "stdout"
        },
        {
          "output_type": "error",
          "ename": "KeyboardInterrupt",
          "evalue": "ignored",
          "traceback": [
            "\u001b[0;31m---------------------------------------------------------------------------\u001b[0m",
            "\u001b[0;31mKeyboardInterrupt\u001b[0m                         Traceback (most recent call last)",
            "\u001b[0;32m<ipython-input-41-fac1647716e3>\u001b[0m in \u001b[0;36m<module>\u001b[0;34m()\u001b[0m\n\u001b[0;32m----> 1\u001b[0;31m \u001b[0mhistory\u001b[0m\u001b[0;34m=\u001b[0m \u001b[0mmodel\u001b[0m\u001b[0;34m.\u001b[0m\u001b[0mfit_generator\u001b[0m\u001b[0;34m(\u001b[0m\u001b[0mdatagen\u001b[0m\u001b[0;34m.\u001b[0m\u001b[0mflow\u001b[0m\u001b[0;34m(\u001b[0m\u001b[0mx_train\u001b[0m\u001b[0;34m,\u001b[0m \u001b[0my_train\u001b[0m\u001b[0;34m,\u001b[0m \u001b[0mbatch_size\u001b[0m\u001b[0;34m=\u001b[0m\u001b[0;36m64\u001b[0m\u001b[0;34m)\u001b[0m\u001b[0;34m,\u001b[0m\u001b[0mepochs\u001b[0m\u001b[0;34m=\u001b[0m\u001b[0;36m50\u001b[0m\u001b[0;34m,\u001b[0m                             \u001b[0msteps_per_epoch\u001b[0m\u001b[0;34m=\u001b[0m\u001b[0mx_train\u001b[0m\u001b[0;34m.\u001b[0m\u001b[0mshape\u001b[0m\u001b[0;34m[\u001b[0m\u001b[0;36m0\u001b[0m\u001b[0;34m]\u001b[0m\u001b[0;34m//\u001b[0m\u001b[0;36m64\u001b[0m\u001b[0;34m,\u001b[0m                             \u001b[0mverbose\u001b[0m\u001b[0;34m=\u001b[0m\u001b[0;36m1\u001b[0m\u001b[0;34m,\u001b[0m\u001b[0mvalidation_data\u001b[0m\u001b[0;34m=\u001b[0m\u001b[0;34m(\u001b[0m\u001b[0mx_valid\u001b[0m\u001b[0;34m,\u001b[0m\u001b[0my_valid\u001b[0m\u001b[0;34m)\u001b[0m\u001b[0;34m,\u001b[0m\u001b[0mcallbacks\u001b[0m\u001b[0;34m=\u001b[0m\u001b[0;34m[\u001b[0m\u001b[0mclr\u001b[0m\u001b[0;34m]\u001b[0m\u001b[0;34m)\u001b[0m\u001b[0;34m\u001b[0m\u001b[0;34m\u001b[0m\u001b[0m\n\u001b[0m",
            "\u001b[0;32m/usr/local/lib/python3.6/dist-packages/keras/legacy/interfaces.py\u001b[0m in \u001b[0;36mwrapper\u001b[0;34m(*args, **kwargs)\u001b[0m\n\u001b[1;32m     89\u001b[0m                 warnings.warn('Update your `' + object_name + '` call to the ' +\n\u001b[1;32m     90\u001b[0m                               'Keras 2 API: ' + signature, stacklevel=2)\n\u001b[0;32m---> 91\u001b[0;31m             \u001b[0;32mreturn\u001b[0m \u001b[0mfunc\u001b[0m\u001b[0;34m(\u001b[0m\u001b[0;34m*\u001b[0m\u001b[0margs\u001b[0m\u001b[0;34m,\u001b[0m \u001b[0;34m**\u001b[0m\u001b[0mkwargs\u001b[0m\u001b[0;34m)\u001b[0m\u001b[0;34m\u001b[0m\u001b[0;34m\u001b[0m\u001b[0m\n\u001b[0m\u001b[1;32m     92\u001b[0m         \u001b[0mwrapper\u001b[0m\u001b[0;34m.\u001b[0m\u001b[0m_original_function\u001b[0m \u001b[0;34m=\u001b[0m \u001b[0mfunc\u001b[0m\u001b[0;34m\u001b[0m\u001b[0;34m\u001b[0m\u001b[0m\n\u001b[1;32m     93\u001b[0m         \u001b[0;32mreturn\u001b[0m \u001b[0mwrapper\u001b[0m\u001b[0;34m\u001b[0m\u001b[0;34m\u001b[0m\u001b[0m\n",
            "\u001b[0;32m/usr/local/lib/python3.6/dist-packages/keras/engine/training.py\u001b[0m in \u001b[0;36mfit_generator\u001b[0;34m(self, generator, steps_per_epoch, epochs, verbose, callbacks, validation_data, validation_steps, class_weight, max_queue_size, workers, use_multiprocessing, shuffle, initial_epoch)\u001b[0m\n\u001b[1;32m   1416\u001b[0m             \u001b[0muse_multiprocessing\u001b[0m\u001b[0;34m=\u001b[0m\u001b[0muse_multiprocessing\u001b[0m\u001b[0;34m,\u001b[0m\u001b[0;34m\u001b[0m\u001b[0;34m\u001b[0m\u001b[0m\n\u001b[1;32m   1417\u001b[0m             \u001b[0mshuffle\u001b[0m\u001b[0;34m=\u001b[0m\u001b[0mshuffle\u001b[0m\u001b[0;34m,\u001b[0m\u001b[0;34m\u001b[0m\u001b[0;34m\u001b[0m\u001b[0m\n\u001b[0;32m-> 1418\u001b[0;31m             initial_epoch=initial_epoch)\n\u001b[0m\u001b[1;32m   1419\u001b[0m \u001b[0;34m\u001b[0m\u001b[0m\n\u001b[1;32m   1420\u001b[0m     \u001b[0;34m@\u001b[0m\u001b[0minterfaces\u001b[0m\u001b[0;34m.\u001b[0m\u001b[0mlegacy_generator_methods_support\u001b[0m\u001b[0;34m\u001b[0m\u001b[0;34m\u001b[0m\u001b[0m\n",
            "\u001b[0;32m/usr/local/lib/python3.6/dist-packages/keras/engine/training_generator.py\u001b[0m in \u001b[0;36mfit_generator\u001b[0;34m(model, generator, steps_per_epoch, epochs, verbose, callbacks, validation_data, validation_steps, class_weight, max_queue_size, workers, use_multiprocessing, shuffle, initial_epoch)\u001b[0m\n\u001b[1;32m    215\u001b[0m                 outs = model.train_on_batch(x, y,\n\u001b[1;32m    216\u001b[0m                                             \u001b[0msample_weight\u001b[0m\u001b[0;34m=\u001b[0m\u001b[0msample_weight\u001b[0m\u001b[0;34m,\u001b[0m\u001b[0;34m\u001b[0m\u001b[0;34m\u001b[0m\u001b[0m\n\u001b[0;32m--> 217\u001b[0;31m                                             class_weight=class_weight)\n\u001b[0m\u001b[1;32m    218\u001b[0m \u001b[0;34m\u001b[0m\u001b[0m\n\u001b[1;32m    219\u001b[0m                 \u001b[0mouts\u001b[0m \u001b[0;34m=\u001b[0m \u001b[0mto_list\u001b[0m\u001b[0;34m(\u001b[0m\u001b[0mouts\u001b[0m\u001b[0;34m)\u001b[0m\u001b[0;34m\u001b[0m\u001b[0;34m\u001b[0m\u001b[0m\n",
            "\u001b[0;32m/usr/local/lib/python3.6/dist-packages/keras/engine/training.py\u001b[0m in \u001b[0;36mtrain_on_batch\u001b[0;34m(self, x, y, sample_weight, class_weight)\u001b[0m\n\u001b[1;32m   1215\u001b[0m             \u001b[0mins\u001b[0m \u001b[0;34m=\u001b[0m \u001b[0mx\u001b[0m \u001b[0;34m+\u001b[0m \u001b[0my\u001b[0m \u001b[0;34m+\u001b[0m \u001b[0msample_weights\u001b[0m\u001b[0;34m\u001b[0m\u001b[0;34m\u001b[0m\u001b[0m\n\u001b[1;32m   1216\u001b[0m         \u001b[0mself\u001b[0m\u001b[0;34m.\u001b[0m\u001b[0m_make_train_function\u001b[0m\u001b[0;34m(\u001b[0m\u001b[0;34m)\u001b[0m\u001b[0;34m\u001b[0m\u001b[0;34m\u001b[0m\u001b[0m\n\u001b[0;32m-> 1217\u001b[0;31m         \u001b[0moutputs\u001b[0m \u001b[0;34m=\u001b[0m \u001b[0mself\u001b[0m\u001b[0;34m.\u001b[0m\u001b[0mtrain_function\u001b[0m\u001b[0;34m(\u001b[0m\u001b[0mins\u001b[0m\u001b[0;34m)\u001b[0m\u001b[0;34m\u001b[0m\u001b[0;34m\u001b[0m\u001b[0m\n\u001b[0m\u001b[1;32m   1218\u001b[0m         \u001b[0;32mreturn\u001b[0m \u001b[0munpack_singleton\u001b[0m\u001b[0;34m(\u001b[0m\u001b[0moutputs\u001b[0m\u001b[0;34m)\u001b[0m\u001b[0;34m\u001b[0m\u001b[0;34m\u001b[0m\u001b[0m\n\u001b[1;32m   1219\u001b[0m \u001b[0;34m\u001b[0m\u001b[0m\n",
            "\u001b[0;32m/usr/local/lib/python3.6/dist-packages/keras/backend/tensorflow_backend.py\u001b[0m in \u001b[0;36m__call__\u001b[0;34m(self, inputs)\u001b[0m\n\u001b[1;32m   2713\u001b[0m                 \u001b[0;32mreturn\u001b[0m \u001b[0mself\u001b[0m\u001b[0;34m.\u001b[0m\u001b[0m_legacy_call\u001b[0m\u001b[0;34m(\u001b[0m\u001b[0minputs\u001b[0m\u001b[0;34m)\u001b[0m\u001b[0;34m\u001b[0m\u001b[0;34m\u001b[0m\u001b[0m\n\u001b[1;32m   2714\u001b[0m \u001b[0;34m\u001b[0m\u001b[0m\n\u001b[0;32m-> 2715\u001b[0;31m             \u001b[0;32mreturn\u001b[0m \u001b[0mself\u001b[0m\u001b[0;34m.\u001b[0m\u001b[0m_call\u001b[0m\u001b[0;34m(\u001b[0m\u001b[0minputs\u001b[0m\u001b[0;34m)\u001b[0m\u001b[0;34m\u001b[0m\u001b[0;34m\u001b[0m\u001b[0m\n\u001b[0m\u001b[1;32m   2716\u001b[0m         \u001b[0;32melse\u001b[0m\u001b[0;34m:\u001b[0m\u001b[0;34m\u001b[0m\u001b[0;34m\u001b[0m\u001b[0m\n\u001b[1;32m   2717\u001b[0m             \u001b[0;32mif\u001b[0m \u001b[0mpy_any\u001b[0m\u001b[0;34m(\u001b[0m\u001b[0mis_tensor\u001b[0m\u001b[0;34m(\u001b[0m\u001b[0mx\u001b[0m\u001b[0;34m)\u001b[0m \u001b[0;32mfor\u001b[0m \u001b[0mx\u001b[0m \u001b[0;32min\u001b[0m \u001b[0minputs\u001b[0m\u001b[0;34m)\u001b[0m\u001b[0;34m:\u001b[0m\u001b[0;34m\u001b[0m\u001b[0;34m\u001b[0m\u001b[0m\n",
            "\u001b[0;32m/usr/local/lib/python3.6/dist-packages/keras/backend/tensorflow_backend.py\u001b[0m in \u001b[0;36m_call\u001b[0;34m(self, inputs)\u001b[0m\n\u001b[1;32m   2673\u001b[0m             \u001b[0mfetched\u001b[0m \u001b[0;34m=\u001b[0m \u001b[0mself\u001b[0m\u001b[0;34m.\u001b[0m\u001b[0m_callable_fn\u001b[0m\u001b[0;34m(\u001b[0m\u001b[0;34m*\u001b[0m\u001b[0marray_vals\u001b[0m\u001b[0;34m,\u001b[0m \u001b[0mrun_metadata\u001b[0m\u001b[0;34m=\u001b[0m\u001b[0mself\u001b[0m\u001b[0;34m.\u001b[0m\u001b[0mrun_metadata\u001b[0m\u001b[0;34m)\u001b[0m\u001b[0;34m\u001b[0m\u001b[0;34m\u001b[0m\u001b[0m\n\u001b[1;32m   2674\u001b[0m         \u001b[0;32melse\u001b[0m\u001b[0;34m:\u001b[0m\u001b[0;34m\u001b[0m\u001b[0;34m\u001b[0m\u001b[0m\n\u001b[0;32m-> 2675\u001b[0;31m             \u001b[0mfetched\u001b[0m \u001b[0;34m=\u001b[0m \u001b[0mself\u001b[0m\u001b[0;34m.\u001b[0m\u001b[0m_callable_fn\u001b[0m\u001b[0;34m(\u001b[0m\u001b[0;34m*\u001b[0m\u001b[0marray_vals\u001b[0m\u001b[0;34m)\u001b[0m\u001b[0;34m\u001b[0m\u001b[0;34m\u001b[0m\u001b[0m\n\u001b[0m\u001b[1;32m   2676\u001b[0m         \u001b[0;32mreturn\u001b[0m \u001b[0mfetched\u001b[0m\u001b[0;34m[\u001b[0m\u001b[0;34m:\u001b[0m\u001b[0mlen\u001b[0m\u001b[0;34m(\u001b[0m\u001b[0mself\u001b[0m\u001b[0;34m.\u001b[0m\u001b[0moutputs\u001b[0m\u001b[0;34m)\u001b[0m\u001b[0;34m]\u001b[0m\u001b[0;34m\u001b[0m\u001b[0;34m\u001b[0m\u001b[0m\n\u001b[1;32m   2677\u001b[0m \u001b[0;34m\u001b[0m\u001b[0m\n",
            "\u001b[0;32m/usr/local/lib/python3.6/dist-packages/tensorflow/python/client/session.py\u001b[0m in \u001b[0;36m__call__\u001b[0;34m(self, *args, **kwargs)\u001b[0m\n\u001b[1;32m   1456\u001b[0m         ret = tf_session.TF_SessionRunCallable(self._session._session,\n\u001b[1;32m   1457\u001b[0m                                                \u001b[0mself\u001b[0m\u001b[0;34m.\u001b[0m\u001b[0m_handle\u001b[0m\u001b[0;34m,\u001b[0m \u001b[0margs\u001b[0m\u001b[0;34m,\u001b[0m\u001b[0;34m\u001b[0m\u001b[0;34m\u001b[0m\u001b[0m\n\u001b[0;32m-> 1458\u001b[0;31m                                                run_metadata_ptr)\n\u001b[0m\u001b[1;32m   1459\u001b[0m         \u001b[0;32mif\u001b[0m \u001b[0mrun_metadata\u001b[0m\u001b[0;34m:\u001b[0m\u001b[0;34m\u001b[0m\u001b[0;34m\u001b[0m\u001b[0m\n\u001b[1;32m   1460\u001b[0m           \u001b[0mproto_data\u001b[0m \u001b[0;34m=\u001b[0m \u001b[0mtf_session\u001b[0m\u001b[0;34m.\u001b[0m\u001b[0mTF_GetBuffer\u001b[0m\u001b[0;34m(\u001b[0m\u001b[0mrun_metadata_ptr\u001b[0m\u001b[0;34m)\u001b[0m\u001b[0;34m\u001b[0m\u001b[0;34m\u001b[0m\u001b[0m\n",
            "\u001b[0;31mKeyboardInterrupt\u001b[0m: "
          ]
        }
      ]
    },
    {
      "cell_type": "code",
      "metadata": {
        "id": "LUE507vo36mu",
        "colab_type": "code",
        "colab": {}
      },
      "source": [
        "h = clr.history\n",
        "plt.plot(h['lr'])"
      ],
      "execution_count": 0,
      "outputs": []
    }
  ]
}