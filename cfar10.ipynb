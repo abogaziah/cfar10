{
  "nbformat": 4,
  "nbformat_minor": 0,
  "metadata": {
    "colab": {
      "name": "cfar10.ipynb",
      "version": "0.3.2",
      "provenance": [],
      "include_colab_link": true
    },
    "kernelspec": {
      "name": "python3",
      "display_name": "Python 3"
    },
    "accelerator": "GPU"
  },
  "cells": [
    {
      "cell_type": "markdown",
      "metadata": {
        "id": "view-in-github",
        "colab_type": "text"
      },
      "source": [
        "<a href=\"https://colab.research.google.com/github/abogaziah/cfar10/blob/master/cfar10.ipynb\" target=\"_parent\"><img src=\"https://colab.research.google.com/assets/colab-badge.svg\" alt=\"Open In Colab\"/></a>"
      ]
    },
    {
      "cell_type": "code",
      "metadata": {
        "id": "tgQlD8gKFI6d",
        "colab_type": "code",
        "outputId": "d9f4d1c4-e143-4d7e-a47d-e36469f46dfe",
        "colab": {
          "base_uri": "https://localhost:8080/",
          "height": 1000
        }
      },
      "source": [
        "import keras\n",
        "from keras.models import Sequential\n",
        "from keras.layers import Conv2D, MaxPooling2D, Flatten, Dense, Dropout, BatchNormalization\n",
        "import numpy as np\n",
        "from keras.datasets import cifar10\n",
        "from keras.callbacks import ModelCheckpoint\n",
        "import matplotlib.pyplot as plt\n",
        "from keras import optimizers\n",
        "\n",
        "(x_train, y_train), (x_test, y_test) = cifar10.load_data()\n",
        "x_train = x_train.astype('float32')/255\n",
        "x_test = x_test.astype('float32')/255\n",
        "\n",
        "num_classes = len(np.unique(y_train))\n",
        "y_train = keras.utils.to_categorical(y_train, num_classes)\n",
        "y_test = keras.utils.to_categorical(y_test, num_classes)\n",
        "\n",
        "(x_train, x_valid) = x_train[5000:], x_train[:5000]\n",
        "(y_train, y_valid) = y_train[5000:], y_train[:5000]\n",
        "\n",
        "\n",
        "\n",
        "#model archtecture\n",
        "model = Sequential()\n",
        "model.add(Conv2D(filters=16, kernel_size=2, padding='same', activation='relu',\n",
        "                        input_shape=(32, 32, 3)))\n",
        "model.add(BatchNormalization())\n",
        "model.add(MaxPooling2D(pool_size=2))\n",
        "model.add(Conv2D(filters=32, kernel_size=2, padding='same', activation='relu'))\n",
        "model.add(MaxPooling2D(pool_size=2))\n",
        "model.add(BatchNormalization())\n",
        "model.add(Conv2D(filters=64, kernel_size=2, padding='same', activation='relu'))\n",
        "model.add(BatchNormalization())\n",
        "model.add(MaxPooling2D(pool_size=2))\n",
        "model.add(Dropout(rate=0.3))\n",
        "model.add(Flatten())\n",
        "model.add(Dense(500, activation='relu'))\n",
        "model.add(Dropout(rate=0.4))\n",
        "model.add(Dense(10, activation='softmax'))\n",
        "\n",
        "model.summary()\n",
        "\n",
        "adam= optimizers.adam(lr=0.0001)\n",
        "model.compile(loss='categorical_crossentropy', optimizer=adam,\n",
        "                  metrics=['accuracy'])\n",
        "checkpointer = ModelCheckpoint(filepath='model.weights.best.hdf5', verbose=1,\n",
        "                               save_best_only=True)\n",
        "history = model.fit(x_train, y_train, batch_size=128, epochs=20,\n",
        "          validation_data=(x_valid, y_valid), callbacks=[checkpointer],\n",
        "          verbose=1, shuffle=True)\n",
        "\n",
        "plt.plot(history.history['loss'])\n",
        "plt.plot(history.history['val_loss'])\n",
        "plt.title('Model loss')\n",
        "plt.ylabel('Loss')\n",
        "plt.xlabel('Epoch')\n",
        "plt.legend(['Train', 'Test'], loc='upper left')\n",
        "plt.show()\n"
      ],
      "execution_count": 6,
      "outputs": [
        {
          "output_type": "stream",
          "text": [
            "_________________________________________________________________\n",
            "Layer (type)                 Output Shape              Param #   \n",
            "=================================================================\n",
            "conv2d_10 (Conv2D)           (None, 32, 32, 16)        208       \n",
            "_________________________________________________________________\n",
            "batch_normalization_10 (Batc (None, 32, 32, 16)        64        \n",
            "_________________________________________________________________\n",
            "max_pooling2d_10 (MaxPooling (None, 16, 16, 16)        0         \n",
            "_________________________________________________________________\n",
            "conv2d_11 (Conv2D)           (None, 16, 16, 32)        2080      \n",
            "_________________________________________________________________\n",
            "max_pooling2d_11 (MaxPooling (None, 8, 8, 32)          0         \n",
            "_________________________________________________________________\n",
            "batch_normalization_11 (Batc (None, 8, 8, 32)          128       \n",
            "_________________________________________________________________\n",
            "conv2d_12 (Conv2D)           (None, 8, 8, 64)          8256      \n",
            "_________________________________________________________________\n",
            "batch_normalization_12 (Batc (None, 8, 8, 64)          256       \n",
            "_________________________________________________________________\n",
            "max_pooling2d_12 (MaxPooling (None, 4, 4, 64)          0         \n",
            "_________________________________________________________________\n",
            "dropout_7 (Dropout)          (None, 4, 4, 64)          0         \n",
            "_________________________________________________________________\n",
            "flatten_4 (Flatten)          (None, 1024)              0         \n",
            "_________________________________________________________________\n",
            "dense_7 (Dense)              (None, 500)               512500    \n",
            "_________________________________________________________________\n",
            "dropout_8 (Dropout)          (None, 500)               0         \n",
            "_________________________________________________________________\n",
            "dense_8 (Dense)              (None, 10)                5010      \n",
            "=================================================================\n",
            "Total params: 528,502\n",
            "Trainable params: 528,278\n",
            "Non-trainable params: 224\n",
            "_________________________________________________________________\n",
            "Train on 45000 samples, validate on 5000 samples\n",
            "Epoch 1/20\n",
            "45000/45000 [==============================] - 4s 99us/step - loss: 2.2323 - acc: 0.2890 - val_loss: 1.5911 - val_acc: 0.4552\n",
            "\n",
            "Epoch 00001: val_loss improved from inf to 1.59114, saving model to model.weights.best.hdf5\n",
            "Epoch 2/20\n",
            "45000/45000 [==============================] - 3s 73us/step - loss: 1.6987 - acc: 0.3967 - val_loss: 1.4514 - val_acc: 0.5002\n",
            "\n",
            "Epoch 00002: val_loss improved from 1.59114 to 1.45136, saving model to model.weights.best.hdf5\n",
            "Epoch 3/20\n",
            "45000/45000 [==============================] - 3s 73us/step - loss: 1.5441 - acc: 0.4475 - val_loss: 1.3479 - val_acc: 0.5268\n",
            "\n",
            "Epoch 00003: val_loss improved from 1.45136 to 1.34795, saving model to model.weights.best.hdf5\n",
            "Epoch 4/20\n",
            "45000/45000 [==============================] - 3s 73us/step - loss: 1.4394 - acc: 0.4832 - val_loss: 1.2850 - val_acc: 0.5534\n",
            "\n",
            "Epoch 00004: val_loss improved from 1.34795 to 1.28495, saving model to model.weights.best.hdf5\n",
            "Epoch 5/20\n",
            "45000/45000 [==============================] - 3s 74us/step - loss: 1.3683 - acc: 0.5092 - val_loss: 1.2223 - val_acc: 0.5722\n",
            "\n",
            "Epoch 00005: val_loss improved from 1.28495 to 1.22230, saving model to model.weights.best.hdf5\n",
            "Epoch 6/20\n",
            "45000/45000 [==============================] - 4s 85us/step - loss: 1.3063 - acc: 0.5334 - val_loss: 1.1747 - val_acc: 0.5866\n",
            "\n",
            "Epoch 00006: val_loss improved from 1.22230 to 1.17470, saving model to model.weights.best.hdf5\n",
            "Epoch 7/20\n",
            "45000/45000 [==============================] - 4s 86us/step - loss: 1.2623 - acc: 0.5478 - val_loss: 1.1387 - val_acc: 0.6024\n",
            "\n",
            "Epoch 00007: val_loss improved from 1.17470 to 1.13866, saving model to model.weights.best.hdf5\n",
            "Epoch 8/20\n",
            "45000/45000 [==============================] - 4s 87us/step - loss: 1.2179 - acc: 0.5639 - val_loss: 1.1081 - val_acc: 0.6094\n",
            "\n",
            "Epoch 00008: val_loss improved from 1.13866 to 1.10811, saving model to model.weights.best.hdf5\n",
            "Epoch 9/20\n",
            "45000/45000 [==============================] - 4s 86us/step - loss: 1.1871 - acc: 0.5741 - val_loss: 1.0773 - val_acc: 0.6194\n",
            "\n",
            "Epoch 00009: val_loss improved from 1.10811 to 1.07732, saving model to model.weights.best.hdf5\n",
            "Epoch 10/20\n",
            "45000/45000 [==============================] - 3s 73us/step - loss: 1.1452 - acc: 0.5912 - val_loss: 1.0491 - val_acc: 0.6288\n",
            "\n",
            "Epoch 00010: val_loss improved from 1.07732 to 1.04914, saving model to model.weights.best.hdf5\n",
            "Epoch 11/20\n",
            "45000/45000 [==============================] - 4s 85us/step - loss: 1.1156 - acc: 0.6030 - val_loss: 1.0299 - val_acc: 0.6346\n",
            "\n",
            "Epoch 00011: val_loss improved from 1.04914 to 1.02993, saving model to model.weights.best.hdf5\n",
            "Epoch 12/20\n",
            "45000/45000 [==============================] - 4s 86us/step - loss: 1.0902 - acc: 0.6113 - val_loss: 1.0126 - val_acc: 0.6378\n",
            "\n",
            "Epoch 00012: val_loss improved from 1.02993 to 1.01264, saving model to model.weights.best.hdf5\n",
            "Epoch 13/20\n",
            "45000/45000 [==============================] - 4s 86us/step - loss: 1.0640 - acc: 0.6180 - val_loss: 0.9913 - val_acc: 0.6472\n",
            "\n",
            "Epoch 00013: val_loss improved from 1.01264 to 0.99134, saving model to model.weights.best.hdf5\n",
            "Epoch 14/20\n",
            "45000/45000 [==============================] - 4s 85us/step - loss: 1.0363 - acc: 0.6322 - val_loss: 0.9646 - val_acc: 0.6568\n",
            "\n",
            "Epoch 00014: val_loss improved from 0.99134 to 0.96459, saving model to model.weights.best.hdf5\n",
            "Epoch 15/20\n",
            "45000/45000 [==============================] - 4s 84us/step - loss: 1.0178 - acc: 0.6391 - val_loss: 0.9602 - val_acc: 0.6592\n",
            "\n",
            "Epoch 00015: val_loss improved from 0.96459 to 0.96024, saving model to model.weights.best.hdf5\n",
            "Epoch 16/20\n",
            "45000/45000 [==============================] - 4s 85us/step - loss: 0.9982 - acc: 0.6438 - val_loss: 0.9437 - val_acc: 0.6672\n",
            "\n",
            "Epoch 00016: val_loss improved from 0.96024 to 0.94366, saving model to model.weights.best.hdf5\n",
            "Epoch 17/20\n",
            "45000/45000 [==============================] - 4s 86us/step - loss: 0.9791 - acc: 0.6524 - val_loss: 0.9300 - val_acc: 0.6674\n",
            "\n",
            "Epoch 00017: val_loss improved from 0.94366 to 0.92997, saving model to model.weights.best.hdf5\n",
            "Epoch 18/20\n",
            "45000/45000 [==============================] - 4s 85us/step - loss: 0.9596 - acc: 0.6577 - val_loss: 0.9138 - val_acc: 0.6780\n",
            "\n",
            "Epoch 00018: val_loss improved from 0.92997 to 0.91380, saving model to model.weights.best.hdf5\n",
            "Epoch 19/20\n",
            "45000/45000 [==============================] - 4s 86us/step - loss: 0.9421 - acc: 0.6662 - val_loss: 0.9007 - val_acc: 0.6760\n",
            "\n",
            "Epoch 00019: val_loss improved from 0.91380 to 0.90069, saving model to model.weights.best.hdf5\n",
            "Epoch 20/20\n",
            "45000/45000 [==============================] - 4s 85us/step - loss: 0.9211 - acc: 0.6732 - val_loss: 0.8955 - val_acc: 0.6796\n",
            "\n",
            "Epoch 00020: val_loss improved from 0.90069 to 0.89555, saving model to model.weights.best.hdf5\n"
          ],
          "name": "stdout"
        },
        {
          "output_type": "display_data",
          "data": {
            "image/png": "[encoded data removed]",
            "text/plain": [
              "<Figure size 432x288 with 1 Axes>"
            ]
          },
          "metadata": {
            "tags": []
          }
        }
      ]
    },
    {
      "cell_type": "code",
      "metadata": {
        "id": "r1FzkCMfUT8j",
        "colab_type": "code",
        "colab": {}
      },
      "source": [
        "model.save('test.h5')"
      ],
      "execution_count": 0,
      "outputs": []
    },
    {
      "cell_type": "code",
      "metadata": {
        "id": "zcOca7GyXMAk",
        "colab_type": "code",
        "colab": {}
      },
      "source": [
        "from keras.models import load_model"
      ],
      "execution_count": 0,
      "outputs": []
    },
    {
      "cell_type": "code",
      "metadata": {
        "id": "t-b5Ql4iUnHE",
        "colab_type": "code",
        "colab": {}
      },
      "source": [
        "\n",
        "model= load_model('test.h5')"
      ],
      "execution_count": 0,
      "outputs": []
    },
    {
      "cell_type": "code",
      "metadata": {
        "id": "N2kCDL0AVAYh",
        "colab_type": "code",
        "colab": {}
      },
      "source": [
        "history = model.fit(x_train, y_train, batch_size=32, epochs=5,\n",
        "          validation_data=(x_valid, y_valid), callbacks=[checkpointer],\n",
        "          verbose=1, shuffle=True)\n",
        "\n",
        "plt.plot(history.history['loss'])\n",
        "plt.plot(history.history['val_loss'])\n",
        "plt.title('Model loss')\n",
        "plt.ylabel('Loss')\n",
        "plt.xlabel('Epoch')\n",
        "plt.legend(['Train', 'Test'], loc='upper left')\n",
        "plt.show()\n"
      ],
      "execution_count": 0,
      "outputs": []
    }
  ]
}